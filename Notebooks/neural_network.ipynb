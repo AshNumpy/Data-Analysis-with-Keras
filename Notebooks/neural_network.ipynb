{
 "cells": [
  {
   "cell_type": "markdown",
   "metadata": {},
   "source": [
    "### Ön işleme"
   ]
  },
  {
   "cell_type": "code",
   "execution_count": 49,
   "metadata": {},
   "outputs": [
    {
     "data": {
      "text/html": [
       "<div>\n",
       "<style scoped>\n",
       "    .dataframe tbody tr th:only-of-type {\n",
       "        vertical-align: middle;\n",
       "    }\n",
       "\n",
       "    .dataframe tbody tr th {\n",
       "        vertical-align: top;\n",
       "    }\n",
       "\n",
       "    .dataframe thead th {\n",
       "        text-align: right;\n",
       "    }\n",
       "</style>\n",
       "<table border=\"1\" class=\"dataframe\">\n",
       "  <thead>\n",
       "    <tr style=\"text-align: right;\">\n",
       "      <th></th>\n",
       "      <th>sepal length (cm)</th>\n",
       "      <th>sepal width (cm)</th>\n",
       "      <th>petal length (cm)</th>\n",
       "      <th>petal width (cm)</th>\n",
       "      <th>Type</th>\n",
       "    </tr>\n",
       "  </thead>\n",
       "  <tbody>\n",
       "    <tr>\n",
       "      <th>0</th>\n",
       "      <td>5.1</td>\n",
       "      <td>3.5</td>\n",
       "      <td>1.4</td>\n",
       "      <td>0.2</td>\n",
       "      <td>0</td>\n",
       "    </tr>\n",
       "    <tr>\n",
       "      <th>1</th>\n",
       "      <td>4.9</td>\n",
       "      <td>3.0</td>\n",
       "      <td>1.4</td>\n",
       "      <td>0.2</td>\n",
       "      <td>0</td>\n",
       "    </tr>\n",
       "    <tr>\n",
       "      <th>2</th>\n",
       "      <td>4.7</td>\n",
       "      <td>3.2</td>\n",
       "      <td>1.3</td>\n",
       "      <td>0.2</td>\n",
       "      <td>0</td>\n",
       "    </tr>\n",
       "    <tr>\n",
       "      <th>3</th>\n",
       "      <td>4.6</td>\n",
       "      <td>3.1</td>\n",
       "      <td>1.5</td>\n",
       "      <td>0.2</td>\n",
       "      <td>0</td>\n",
       "    </tr>\n",
       "    <tr>\n",
       "      <th>4</th>\n",
       "      <td>5.0</td>\n",
       "      <td>3.6</td>\n",
       "      <td>1.4</td>\n",
       "      <td>0.2</td>\n",
       "      <td>0</td>\n",
       "    </tr>\n",
       "  </tbody>\n",
       "</table>\n",
       "</div>"
      ],
      "text/plain": [
       "   sepal length (cm)  sepal width (cm)  petal length (cm)  petal width (cm)  \\\n",
       "0                5.1               3.5                1.4               0.2   \n",
       "1                4.9               3.0                1.4               0.2   \n",
       "2                4.7               3.2                1.3               0.2   \n",
       "3                4.6               3.1                1.5               0.2   \n",
       "4                5.0               3.6                1.4               0.2   \n",
       "\n",
       "   Type  \n",
       "0     0  \n",
       "1     0  \n",
       "2     0  \n",
       "3     0  \n",
       "4     0  "
      ]
     },
     "execution_count": 49,
     "metadata": {},
     "output_type": "execute_result"
    }
   ],
   "source": [
    "import pandas as pd \n",
    "\n",
    "df = pd.read_csv('../Datasets/iris_data.csv')\n",
    "df.head()"
   ]
  },
  {
   "cell_type": "code",
   "execution_count": 50,
   "metadata": {},
   "outputs": [
    {
     "name": "stdout",
     "output_type": "stream",
     "text": [
      "<class 'pandas.core.frame.DataFrame'>\n",
      "RangeIndex: 150 entries, 0 to 149\n",
      "Data columns (total 4 columns):\n",
      " #   Column             Non-Null Count  Dtype  \n",
      "---  ------             --------------  -----  \n",
      " 0   sepal length (cm)  150 non-null    float64\n",
      " 1   sepal width (cm)   150 non-null    float64\n",
      " 2   petal length (cm)  150 non-null    float64\n",
      " 3   petal width (cm)   150 non-null    float64\n",
      "dtypes: float64(4)\n",
      "memory usage: 4.8 KB\n"
     ]
    }
   ],
   "source": [
    "X = df.iloc[:,:4]\n",
    "y = df.iloc[:,-1]\n",
    "\n",
    "X.info()"
   ]
  },
  {
   "cell_type": "code",
   "execution_count": 51,
   "metadata": {},
   "outputs": [
    {
     "name": "stdout",
     "output_type": "stream",
     "text": [
      "Train shape: (120, 4) \n",
      " Test shape: (30, 4)\n"
     ]
    }
   ],
   "source": [
    "from sklearn.model_selection import train_test_split\n",
    "\n",
    "X_train, X_test, y_train, y_test = train_test_split(X, y, train_size=.8, random_state=1)\n",
    "\n",
    "print('Train shape:', X_train.shape, '\\n', 'Test shape:', X_test.shape)"
   ]
  },
  {
   "cell_type": "markdown",
   "metadata": {},
   "source": [
    "Eğer veride yüksek seviyede varyans var ise verileri normalleştirmek makinemizin öğrenmesi ve bizim analiz etmemiz adına yararlı olacaktır."
   ]
  },
  {
   "cell_type": "code",
   "execution_count": 52,
   "metadata": {},
   "outputs": [
    {
     "data": {
      "text/plain": [
       "(sepal length (cm)    0.693476\n",
       " sepal width (cm)     0.176688\n",
       " petal length (cm)    3.140235\n",
       " petal width (cm)     0.603243\n",
       " dtype: float64,\n",
       " sepal length (cm)    0.676885\n",
       " sepal width (cm)     0.220931\n",
       " petal length (cm)    3.069483\n",
       " petal width (cm)     0.501655\n",
       " dtype: float64)"
      ]
     },
     "execution_count": 52,
     "metadata": {},
     "output_type": "execute_result"
    }
   ],
   "source": [
    "X_train.var(), X_test.var()"
   ]
  },
  {
   "cell_type": "markdown",
   "metadata": {},
   "source": [
    "İris tiplerini belirten hedef değişkenimiz \"Type\" 3 farklı sınıftan (0,1,2) . bunu OHE (One Hot Encoding) ile kodlayalım. Ancak bunu keras kullanarak yapalım."
   ]
  },
  {
   "cell_type": "code",
   "execution_count": 53,
   "metadata": {},
   "outputs": [
    {
     "data": {
      "text/plain": [
       "array([[0., 1., 0.],\n",
       "       [0., 0., 1.],\n",
       "       [0., 1., 0.],\n",
       "       [0., 0., 1.],\n",
       "       [0., 0., 1.]], dtype=float32)"
      ]
     },
     "execution_count": 53,
     "metadata": {},
     "output_type": "execute_result"
    }
   ],
   "source": [
    "import tensorflow as tf\n",
    "from tensorflow.keras.utils import to_categorical\n",
    "\n",
    "y_train = to_categorical(y_train)\n",
    "y_test = to_categorical(y_test)\n",
    "\n",
    "y_train[:5,:]"
   ]
  },
  {
   "cell_type": "markdown",
   "metadata": {},
   "source": [
    "Bu kodlama sonucunda [0,1,0] versicolor ve [0,0,1] virginica 'yı göstermektedir. \n",
    "\n",
    "Şimdi şöyle type error yememek için çıktı verilerimiz numpy ndarray ve girdi verilerimiz pandas df iken hepsini numpy ndarray yapalım."
   ]
  },
  {
   "cell_type": "code",
   "execution_count": 54,
   "metadata": {},
   "outputs": [
    {
     "name": "stdout",
     "output_type": "stream",
     "text": [
      "<class 'numpy.ndarray'> <class 'numpy.ndarray'> <class 'numpy.ndarray'> <class 'numpy.ndarray'>\n"
     ]
    }
   ],
   "source": [
    "X_train = X_train.values\n",
    "X_test = X_test.values\n",
    "\n",
    "print(type(X_train), type(X_test), type(y_train), type(y_test))"
   ]
  },
  {
   "cell_type": "markdown",
   "metadata": {},
   "source": [
    "Veri ön işleme işlemimiz tamam artık verilerimiz model için hazır. Burada hazır veri seti kullandığımız için bu kısım çok kısa sürdü, ancak gerçek dünya verileri ile uğraşırken en çok zaman alan kısım genelde bu oluyor. "
   ]
  },
  {
   "cell_type": "markdown",
   "metadata": {},
   "source": [
    "### Sinir Ağları\n",
    "Derin öğrenme modelleri sinir ağları kullanılarak oluşturur. Girdi katmanları ağırlıklandırmalar ile gizli katmanlarda işlenip çıktı katmanına iletilir. Bu öğrenme süreci (ağırlıklandırma ile en iyi modeli bulma süreci) çıkış katmanına kadar kaç gizli katman varsa o kadar boyunca güncellenir.  \n",
    "\n",
    "Amacımız en iyi tahmini yapacak modellemeyi bulmaktır. Ancak yapay sinir ağları kapalı kutu (BlackBox) sistemdir. Yani sinir ağının en iyi modeli nasıl bulunduğu bilinmez. Girdiler sinir ağına verilir, ağ ağırlıkları güncelleyerek en iyi modeli bulur.  "
   ]
  },
  {
   "cell_type": "code",
   "execution_count": 55,
   "metadata": {},
   "outputs": [],
   "source": [
    "import tensorflow as tf \n",
    "from tensorflow.keras.models import Sequential\n",
    "from tensorflow.keras.layers import Dense\n",
    "\n",
    "model = Sequential()\n",
    "model.add(Dense(81, activation='relu', input_shape=X_train[0].shape))\n",
    "model.add(Dense(121, activation='relu'))\n",
    "model.add(Dense(121, activation='relu'))\n",
    "model.add(Dense(64, activation='relu'))\n",
    "model.add(Dense(3, activation='softmax')) # çoklu categorik çıktı için softmax alıyorum eğer ikili olsaydı sigmoid alırdım."
   ]
  },
  {
   "cell_type": "code",
   "execution_count": 56,
   "metadata": {},
   "outputs": [
    {
     "name": "stdout",
     "output_type": "stream",
     "text": [
      "Epoch 1/5\n",
      "4/4 [==============================] - 1s 78ms/step - loss: 1.0732 - acc: 0.3704 - val_loss: 0.8660 - val_acc: 0.9167\n",
      "Epoch 2/5\n",
      "4/4 [==============================] - 0s 13ms/step - loss: 0.8323 - acc: 0.7037 - val_loss: 0.7279 - val_acc: 0.7500\n",
      "Epoch 3/5\n",
      "4/4 [==============================] - 0s 15ms/step - loss: 0.7064 - acc: 0.8148 - val_loss: 0.6415 - val_acc: 0.9167\n",
      "Epoch 4/5\n",
      "4/4 [==============================] - 0s 12ms/step - loss: 0.5819 - acc: 0.9352 - val_loss: 0.5161 - val_acc: 0.9167\n",
      "Epoch 5/5\n",
      "4/4 [==============================] - 0s 13ms/step - loss: 0.5018 - acc: 0.7222 - val_loss: 0.4523 - val_acc: 0.9167\n"
     ]
    }
   ],
   "source": [
    "model.compile(optimizer='adam', \n",
    "            loss='categorical_crossentropy', # çoklu sınıflandırma olduğu için 'categorical_crossentropy' alıyorum.\n",
    "            metrics = ['acc']) \n",
    "fitting = model.fit(X_train, y_train,\n",
    "        batch_size=35, # batch size argümanı model öğrenirken kaçar örneklem alarak öğrensin onu belirler\n",
    "        epochs=5, # epochs sayısı modelin eğitim serisini kaç kere göreceğini belirler epochs sayısı artarsa öğrenim süresi de artar\n",
    "        validation_split=.1 # validation modelin eğitiminin iyileştirilmesi için kullanılır. eğitim verisinin %10 u validation için kullanılsın.\n",
    "        )"
   ]
  },
  {
   "cell_type": "markdown",
   "metadata": {},
   "source": [
    "Her bir epoch süresince ne tür gelişim katettiğini gördük. Son durumda eğitim serisinin doğruluğu %74 validation verisinin doğruluğu ise %91 olarak çıkmış.  \n",
    "\n",
    "Validation doğruluğu eğitimin doğruluğundan yüksek olduğu için *\"underfitting\"* modelde düşük uydurma problemi vardır diyebiliriz."
   ]
  },
  {
   "cell_type": "code",
   "execution_count": 62,
   "metadata": {},
   "outputs": [
    {
     "data": {
      "image/png": "[encoded data removed]",
      "text/plain": [
       "<Figure size 1152x648 with 1 Axes>"
      ]
     },
     "metadata": {
      "needs_background": "light"
     },
     "output_type": "display_data"
    }
   ],
   "source": [
    "import matplotlib.pyplot as plt \n",
    "\n",
    "%matplotlib inline\n",
    "\n",
    "plt.figure(figsize=(16,9))\n",
    "plt.plot(fitting.history['acc'])\n",
    "plt.plot(fitting.history['val_acc'])\n",
    "plt.xlabel('Epochs')\n",
    "plt.ylabel('Accuracy')\n",
    "plt.legend(['Training', 'Validation'], fontsize='xx-large', loc='lower right')\n",
    "plt.savefig('../Images/neural_network_accuracy.png')\n",
    "plt.show()"
   ]
  },
  {
   "cell_type": "code",
   "execution_count": 64,
   "metadata": {},
   "outputs": [
    {
     "data": {
      "image/png": "[encoded data removed]",
      "text/plain": [
       "<Figure size 1152x648 with 1 Axes>"
      ]
     },
     "metadata": {
      "needs_background": "light"
     },
     "output_type": "display_data"
    }
   ],
   "source": [
    "import matplotlib.pyplot as plt \n",
    "\n",
    "%matplotlib inline\n",
    "\n",
    "plt.figure(figsize=(16,9))\n",
    "plt.plot(fitting.history['loss'])\n",
    "plt.plot(fitting.history['val_loss'])\n",
    "plt.xlabel('Epochs')\n",
    "plt.ylabel('Accuracy')\n",
    "plt.legend(['Training', 'Validation'], fontsize='xx-large', loc='lower right')\n",
    "plt.savefig('../Images/neural_network_loss.png')\n",
    "plt.show()"
   ]
  },
  {
   "cell_type": "code",
   "execution_count": 65,
   "metadata": {},
   "outputs": [
    {
     "name": "stdout",
     "output_type": "stream",
     "text": [
      "1/1 [==============================] - 0s 27ms/step - loss: 0.4743 - acc: 0.7667\n"
     ]
    },
    {
     "data": {
      "text/plain": [
       "[0.47433432936668396, 0.7666666507720947]"
      ]
     },
     "execution_count": 65,
     "metadata": {},
     "output_type": "execute_result"
    }
   ],
   "source": [
    "model.evaluate(X_test, y_test) # kurulan model yeni bir veriyi %76,6 oranında doğru tahmin ediyor. Biraz daha derin bir model deneyelim. "
   ]
  },
  {
   "cell_type": "code",
   "execution_count": 68,
   "metadata": {},
   "outputs": [
    {
     "name": "stdout",
     "output_type": "stream",
     "text": [
      "Epoch 1/10\n",
      "4/4 [==============================] - 1s 71ms/step - loss: 1.0479 - acc: 0.6852 - val_loss: 0.8890 - val_acc: 0.7500\n",
      "Epoch 2/10\n",
      "4/4 [==============================] - 0s 12ms/step - loss: 0.8947 - acc: 0.6852 - val_loss: 0.6850 - val_acc: 0.7500\n",
      "Epoch 3/10\n",
      "4/4 [==============================] - 0s 13ms/step - loss: 0.6606 - acc: 0.6852 - val_loss: 0.5626 - val_acc: 0.9167\n",
      "Epoch 4/10\n",
      "4/4 [==============================] - 0s 13ms/step - loss: 0.4594 - acc: 0.9722 - val_loss: 0.3731 - val_acc: 0.8333\n",
      "Epoch 5/10\n",
      "4/4 [==============================] - 0s 12ms/step - loss: 0.3795 - acc: 0.7500 - val_loss: 0.2999 - val_acc: 0.9167\n",
      "Epoch 6/10\n",
      "4/4 [==============================] - 0s 13ms/step - loss: 0.2672 - acc: 0.8981 - val_loss: 0.2454 - val_acc: 0.9167\n",
      "Epoch 7/10\n",
      "4/4 [==============================] - 0s 15ms/step - loss: 0.1726 - acc: 0.9630 - val_loss: 0.4004 - val_acc: 0.7500\n",
      "Epoch 8/10\n",
      "4/4 [==============================] - 0s 12ms/step - loss: 0.1729 - acc: 0.9630 - val_loss: 0.1950 - val_acc: 0.9167\n",
      "Epoch 9/10\n",
      "4/4 [==============================] - 0s 13ms/step - loss: 0.0900 - acc: 0.9815 - val_loss: 0.2055 - val_acc: 0.8333\n",
      "Epoch 10/10\n",
      "4/4 [==============================] - 0s 13ms/step - loss: 0.0955 - acc: 0.9537 - val_loss: 0.2995 - val_acc: 0.9167\n"
     ]
    }
   ],
   "source": [
    "model2 = Sequential()\n",
    "model2.add(Dense(81, activation='relu', input_shape=X_train[0].shape))\n",
    "model2.add(Dense(121, activation='relu'))\n",
    "model2.add(Dense(121, activation='relu'))\n",
    "model2.add(Dense(144, activation='relu'))\n",
    "model2.add(Dense(169, activation='relu'))\n",
    "model2.add(Dense(144, activation='relu'))\n",
    "model2.add(Dense(121, activation='relu'))\n",
    "model2.add(Dense(64, activation='relu'))\n",
    "model2.add(Dense(3, activation='softmax'))\n",
    "\n",
    "model2.compile(optimizer='adam', loss='categorical_crossentropy', metrics = ['acc']) \n",
    "fitting2 = model2.fit(X_train, y_train, batch_size=35, epochs=10, validation_split=.1)"
   ]
  },
  {
   "cell_type": "code",
   "execution_count": 70,
   "metadata": {},
   "outputs": [
    {
     "name": "stdout",
     "output_type": "stream",
     "text": [
      "1/1 [==============================] - 0s 25ms/step - loss: 0.1949 - acc: 0.8667\n"
     ]
    },
    {
     "data": {
      "text/plain": [
       "[0.1949438601732254, 0.8666666746139526]"
      ]
     },
     "execution_count": 70,
     "metadata": {},
     "output_type": "execute_result"
    }
   ],
   "source": [
    "model2.evaluate(X_test, y_test) # doğrululuk oranı %86,6 ya çıktı."
   ]
  }
 ],
 "metadata": {
  "kernelspec": {
   "display_name": "Python 3.10.5 64-bit",
   "language": "python",
   "name": "python3"
  },
  "language_info": {
   "codemirror_mode": {
    "name": "ipython",
    "version": 3
   },
   "file_extension": ".py",
   "mimetype": "text/x-python",
   "name": "python",
   "nbconvert_exporter": "python",
   "pygments_lexer": "ipython3",
   "version": "3.10.5"
  },
  "orig_nbformat": 4,
  "vscode": {
   "interpreter": {
    "hash": "578ce5a4903d7b45920c2d79663ce2541e7c0226009dc3f8451a28c8417bba54"
   }
  }
 },
 "nbformat": 4,
 "nbformat_minor": 2
}
